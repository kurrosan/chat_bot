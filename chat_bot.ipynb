{
  "cells": [
    {
      "cell_type": "markdown",
      "metadata": {
        "id": "view-in-github",
        "colab_type": "text"
      },
      "source": [
        "<a href=\"https://colab.research.google.com/github/kurrosan/chat_bot/blob/main/chat_bot.ipynb\" target=\"_parent\"><img src=\"https://colab.research.google.com/assets/colab-badge.svg\" alt=\"Open In Colab\"/></a>"
      ]
    },
    {
      "cell_type": "code",
      "execution_count": null,
      "metadata": {
        "colab": {
          "base_uri": "https://localhost:8080/"
        },
        "id": "bMHN5UdTCd-s",
        "outputId": "de3fdfa3-caa5-451c-bf44-0e2cf2be1aa4"
      },
      "outputs": [
        {
          "output_type": "stream",
          "name": "stdout",
          "text": [
            "Looking in indexes: https://pypi.org/simple, https://us-python.pkg.dev/colab-wheels/public/simple/\n",
            "Collecting SpeechRecognition\n",
            "  Downloading SpeechRecognition-3.9.0-py2.py3-none-any.whl (32.8 MB)\n",
            "\u001b[K     |████████████████████████████████| 32.8 MB 235 kB/s \n",
            "\u001b[?25hCollecting requests>=2.26.0\n",
            "  Downloading requests-2.28.1-py3-none-any.whl (62 kB)\n",
            "\u001b[K     |████████████████████████████████| 62 kB 618 kB/s \n",
            "\u001b[?25hRequirement already satisfied: urllib3<1.27,>=1.21.1 in /usr/local/lib/python3.8/dist-packages (from requests>=2.26.0->SpeechRecognition) (1.24.3)\n",
            "Requirement already satisfied: idna<4,>=2.5 in /usr/local/lib/python3.8/dist-packages (from requests>=2.26.0->SpeechRecognition) (2.10)\n",
            "Requirement already satisfied: charset-normalizer<3,>=2 in /usr/local/lib/python3.8/dist-packages (from requests>=2.26.0->SpeechRecognition) (2.1.1)\n",
            "Requirement already satisfied: certifi>=2017.4.17 in /usr/local/lib/python3.8/dist-packages (from requests>=2.26.0->SpeechRecognition) (2022.9.24)\n",
            "Installing collected packages: requests, SpeechRecognition\n",
            "  Attempting uninstall: requests\n",
            "    Found existing installation: requests 2.23.0\n",
            "    Uninstalling requests-2.23.0:\n",
            "      Successfully uninstalled requests-2.23.0\n",
            "Successfully installed SpeechRecognition-3.9.0 requests-2.28.1\n"
          ]
        }
      ],
      "source": [
        "pip install SpeechRecognition"
      ]
    },
    {
      "cell_type": "code",
      "source": [
        "pip install virtualenv"
      ],
      "metadata": {
        "colab": {
          "base_uri": "https://localhost:8080/"
        },
        "id": "8os6sY1rNQ2N",
        "outputId": "c821ed73-5f3b-4232-f42c-52664f425d80"
      },
      "execution_count": null,
      "outputs": [
        {
          "output_type": "stream",
          "name": "stdout",
          "text": [
            "Looking in indexes: https://pypi.org/simple, https://us-python.pkg.dev/colab-wheels/public/simple/\n",
            "Collecting virtualenv\n",
            "  Downloading virtualenv-20.17.1-py3-none-any.whl (8.8 MB)\n",
            "\u001b[K     |████████████████████████████████| 8.8 MB 11.6 MB/s \n",
            "\u001b[?25hRequirement already satisfied: platformdirs<3,>=2.4 in /usr/local/lib/python3.8/dist-packages (from virtualenv) (2.5.4)\n",
            "Requirement already satisfied: filelock<4,>=3.4.1 in /usr/local/lib/python3.8/dist-packages (from virtualenv) (3.8.0)\n",
            "Collecting distlib<1,>=0.3.6\n",
            "  Downloading distlib-0.3.6-py2.py3-none-any.whl (468 kB)\n",
            "\u001b[K     |████████████████████████████████| 468 kB 75.7 MB/s \n",
            "\u001b[?25hInstalling collected packages: distlib, virtualenv\n",
            "Successfully installed distlib-0.3.6 virtualenv-20.17.1\n"
          ]
        }
      ]
    },
    {
      "cell_type": "code",
      "execution_count": null,
      "metadata": {
        "colab": {
          "base_uri": "https://localhost:8080/"
        },
        "id": "06EJjlIAybmW",
        "outputId": "44dfc1af-89d0-4069-f211-4d611b17cf6d"
      },
      "outputs": [
        {
          "output_type": "stream",
          "name": "stdout",
          "text": [
            "Looking in indexes: https://pypi.org/simple, https://us-python.pkg.dev/colab-wheels/public/simple/\n",
            "Collecting pyTelegramBotAPI\n",
            "  Downloading pyTelegramBotAPI-4.8.0.tar.gz (217 kB)\n",
            "\u001b[K     |████████████████████████████████| 217 kB 34.2 MB/s \n",
            "\u001b[?25hRequirement already satisfied: requests in /usr/local/lib/python3.8/dist-packages (from pyTelegramBotAPI) (2.28.1)\n",
            "Requirement already satisfied: urllib3<1.27,>=1.21.1 in /usr/local/lib/python3.8/dist-packages (from requests->pyTelegramBotAPI) (1.24.3)\n",
            "Requirement already satisfied: idna<4,>=2.5 in /usr/local/lib/python3.8/dist-packages (from requests->pyTelegramBotAPI) (2.10)\n",
            "Requirement already satisfied: charset-normalizer<3,>=2 in /usr/local/lib/python3.8/dist-packages (from requests->pyTelegramBotAPI) (2.1.1)\n",
            "Requirement already satisfied: certifi>=2017.4.17 in /usr/local/lib/python3.8/dist-packages (from requests->pyTelegramBotAPI) (2022.9.24)\n",
            "Building wheels for collected packages: pyTelegramBotAPI\n",
            "  Building wheel for pyTelegramBotAPI (setup.py) ... \u001b[?25l\u001b[?25hdone\n",
            "  Created wheel for pyTelegramBotAPI: filename=pyTelegramBotAPI-4.8.0-py3-none-any.whl size=200125 sha256=38092ad1c13df9fdc8638cc7d035ffb2194e6c76d54e6dbae5b38ed7e27053af\n",
            "  Stored in directory: /root/.cache/pip/wheels/c2/05/70/8409792e663e67a70e057df1f18d070105c1c457b3f410bbb0\n",
            "Successfully built pyTelegramBotAPI\n",
            "Installing collected packages: pyTelegramBotAPI\n",
            "Successfully installed pyTelegramBotAPI-4.8.0\n"
          ]
        }
      ],
      "source": [
        "pip install pyTelegramBotAPI"
      ]
    },
    {
      "cell_type": "code",
      "execution_count": null,
      "metadata": {
        "colab": {
          "base_uri": "https://localhost:8080/"
        },
        "id": "ZQWKByJdzfy8",
        "outputId": "78bacd74-52a8-4318-ebd9-222aa402d025"
      },
      "outputs": [
        {
          "output_type": "stream",
          "name": "stdout",
          "text": [
            "Looking in indexes: https://pypi.org/simple, https://us-python.pkg.dev/colab-wheels/public/simple/\n",
            "Collecting Wikipedia\n",
            "  Downloading wikipedia-1.4.0.tar.gz (27 kB)\n",
            "Requirement already satisfied: beautifulsoup4 in /usr/local/lib/python3.8/dist-packages (from Wikipedia) (4.6.3)\n",
            "Requirement already satisfied: requests<3.0.0,>=2.0.0 in /usr/local/lib/python3.8/dist-packages (from Wikipedia) (2.28.1)\n",
            "Requirement already satisfied: idna<4,>=2.5 in /usr/local/lib/python3.8/dist-packages (from requests<3.0.0,>=2.0.0->Wikipedia) (2.10)\n",
            "Requirement already satisfied: charset-normalizer<3,>=2 in /usr/local/lib/python3.8/dist-packages (from requests<3.0.0,>=2.0.0->Wikipedia) (2.1.1)\n",
            "Requirement already satisfied: certifi>=2017.4.17 in /usr/local/lib/python3.8/dist-packages (from requests<3.0.0,>=2.0.0->Wikipedia) (2022.9.24)\n",
            "Requirement already satisfied: urllib3<1.27,>=1.21.1 in /usr/local/lib/python3.8/dist-packages (from requests<3.0.0,>=2.0.0->Wikipedia) (1.24.3)\n",
            "Building wheels for collected packages: Wikipedia\n",
            "  Building wheel for Wikipedia (setup.py) ... \u001b[?25l\u001b[?25hdone\n",
            "  Created wheel for Wikipedia: filename=wikipedia-1.4.0-py3-none-any.whl size=11695 sha256=a1a5e8a37564ca53ef7edb1e60c56ccae78f7c8d74ab13849a76a76955b9cae6\n",
            "  Stored in directory: /root/.cache/pip/wheels/07/93/05/72c05349177dca2e0ba31a33ba4f7907606f7ddef303517c6a\n",
            "Successfully built Wikipedia\n",
            "Installing collected packages: Wikipedia\n",
            "Successfully installed Wikipedia-1.4.0\n"
          ]
        }
      ],
      "source": [
        "pip install Wikipedia"
      ]
    },
    {
      "cell_type": "code",
      "execution_count": null,
      "metadata": {
        "colab": {
          "base_uri": "https://localhost:8080/"
        },
        "id": "6vHfJfCi1uSW",
        "outputId": "305fe2a4-1d8a-4b01-9131-5f0af0671cc7"
      },
      "outputs": [
        {
          "output_type": "stream",
          "name": "stdout",
          "text": [
            "Looking in indexes: https://pypi.org/simple, https://us-python.pkg.dev/colab-wheels/public/simple/\n",
            "Requirement already satisfied: scikit-learn in /usr/local/lib/python3.8/dist-packages (1.0.2)\n",
            "Requirement already satisfied: joblib>=0.11 in /usr/local/lib/python3.8/dist-packages (from scikit-learn) (1.2.0)\n",
            "Requirement already satisfied: scipy>=1.1.0 in /usr/local/lib/python3.8/dist-packages (from scikit-learn) (1.7.3)\n",
            "Requirement already satisfied: numpy>=1.14.6 in /usr/local/lib/python3.8/dist-packages (from scikit-learn) (1.21.6)\n",
            "Requirement already satisfied: threadpoolctl>=2.0.0 in /usr/local/lib/python3.8/dist-packages (from scikit-learn) (3.1.0)\n"
          ]
        }
      ],
      "source": [
        "pip install scikit-learn"
      ]
    },
    {
      "cell_type": "code",
      "execution_count": null,
      "metadata": {
        "id": "m7XHqgJx1y9Q"
      },
      "outputs": [],
      "source": [
        "import telebot, wikipedia, re\n",
        "from sklearn.feature_extraction.text import CountVectorizer\n",
        "from sklearn.linear_model import LogisticRegression\n",
        "import uuid\n",
        "import os \n",
        "import speech_recognition as sr\n",
        "\n",
        "wikipedia.set_lang(\"ru\")\n",
        "bot = telebot.TeleBot('5704076854:AAFivFMNymruBg4KXoEJBVAIB29zDA5u_lE')"
      ]
    },
    {
      "cell_type": "code",
      "execution_count": null,
      "metadata": {
        "id": "JUMPpWNx2I26"
      },
      "outputs": [],
      "source": [
        "def clean_str(r):\n",
        "\tr = r.lower()\n",
        "\tr = [c for c in r if c in alphabet]\n",
        "\treturn ''.join(r)\n",
        "\n",
        "alphabet = ' 1234567890-йцукенгшщзхъфывапролджэячсмитьбюёqwertyuiopasdfghjklzxcvbnm?%.,()!:;'"
      ]
    },
    {
      "cell_type": "code",
      "execution_count": null,
      "metadata": {
        "colab": {
          "base_uri": "https://localhost:8080/"
        },
        "id": "rVe4xkv72MHM",
        "outputId": "011c226c-d4b3-45b5-b2ab-551b70ac8ea5"
      },
      "outputs": [
        {
          "output_type": "stream",
          "name": "stdout",
          "text": [
            "Mounted at /content/gdrive\n"
          ]
        }
      ],
      "source": [
        "from google.colab import drive\n",
        "drive.mount('/content/gdrive')"
      ]
    },
    {
      "cell_type": "code",
      "execution_count": null,
      "metadata": {
        "id": "2OUrYeED2-RU"
      },
      "outputs": [],
      "source": [
        "def update():\n",
        "\twith open('/content/gdrive/MyDrive/questions (2).txt', encoding='utf-8') as f:\n",
        "\t\tcontent = f.read()\n",
        "\t\n",
        "\tblocks = content.split('\\n')\n",
        "\tdataset = []\n",
        "\t\n",
        "\tfor block in blocks:\n",
        "\t\treplicas = block.split('\\\\')[:2]\n",
        "\t\tif len(replicas) == 2:\n",
        "\t\t\tpair = [clean_str(replicas[0]), clean_str(replicas[1])]\n",
        "\t\t\tif pair[0] and pair[1]:\n",
        "\t\t\t\tdataset.append(pair)\n",
        "\t\n",
        "\tX_text = []\n",
        "\ty = []\n",
        "\t\n",
        "\tfor question, answer in dataset[:10000]:\n",
        "\t\tX_text.append(question)\n",
        "\t\ty += [answer]\n",
        "\t\n",
        "\tglobal vectorizer\n",
        "\tvectorizer = CountVectorizer()\n",
        "\tX = vectorizer.fit_transform(X_text)\n",
        "\t\n",
        "\tglobal clf\n",
        "\tclf = LogisticRegression()\n",
        "\tclf.fit(X, y)\n",
        "\n",
        "update()"
      ]
    },
    {
      "cell_type": "code",
      "execution_count": null,
      "metadata": {
        "id": "YnT64ef63Flo"
      },
      "outputs": [],
      "source": [
        "def get_generative_replica(text):\n",
        "\ttext_vector = vectorizer.transform([text]).toarray()[0]\n",
        "\tquestion = clf.predict([text_vector])[0]\n",
        "\treturn question"
      ]
    },
    {
      "cell_type": "code",
      "execution_count": null,
      "metadata": {
        "id": "iXHqqT4A3Jv2"
      },
      "outputs": [],
      "source": [
        "def getwiki(s):\n",
        "    try:\n",
        "        ny = wikipedia.page(s)\n",
        "        wikitext=ny.content[:1000]\n",
        "        wikimas=wikitext.split('.')\n",
        "        wikimas = wikimas[:-1]\n",
        "        wikitext2 = ''\n",
        "        for x in wikimas:\n",
        "            if not('==' in x):\n",
        "                if(len((x.strip()))>3):\n",
        "                   wikitext2=wikitext2+x+'.'\n",
        "            else:\n",
        "                break\n",
        "        wikitext2=re.sub('\\([^()]*\\)', '', wikitext2)\n",
        "        wikitext2=re.sub('\\([^()]*\\)', '', wikitext2)\n",
        "        wikitext2=re.sub('\\{[^\\{\\}]*\\}', '', wikitext2)\n",
        "        return wikitext2\n",
        "    except Exception as e:\n",
        "        return 'На этот вопрос мы не можем ответить'"
      ]
    },
    {
      "cell_type": "code",
      "execution_count": null,
      "metadata": {
        "id": "LBDRA39v3MZa"
      },
      "outputs": [],
      "source": [
        "@bot.message_handler(commands=['start'])\n",
        "def start_message(message):\n",
        "\tbot.send_message(message.chat.id,\"Здравствуйте! Какой вопрос вы хотели бы задать?\")\n",
        "\n",
        "question = \"\"\n",
        "\n",
        "@bot.message_handler(content_types=['text'])\n",
        "def get_text_messages(message):\n",
        "\tcommand = message.text.lower()\n",
        "\tif command ==\"не так\":\n",
        "\t\tbot.send_message(message.from_user.id, \"а как?\")\n",
        "\t\tbot.register_next_step_handler(message, wrong)\n",
        "\telse:\n",
        "\t\tglobal question\n",
        "\t\tquestion = command\n",
        "\t\treply = get_generative_replica(command)\n",
        "\t\tif reply==\"вики \":\n",
        "\t\t\tbot.send_message(message.from_user.id, getwiki(command))\n",
        "\t\telse:\n",
        "\t\t\tbot.send_message(message.from_user.id, reply)\n",
        "\n",
        "def wrong(message):\n",
        "\ta = f\"{question}\\{message.text.lower()} \\n\"\n",
        "\twith open('/content/gdrive/MyDrive/questions (2).txt', \"a\", encoding='utf-8') as f:\n",
        "\t\tf.write(a)\n",
        "\tbot.send_message(message.from_user.id, \"Готово\")\n",
        "\tupdate()"
      ]
    },
    {
      "cell_type": "code",
      "source": [
        "@bot.message_handler(content_types=['voice'])\n",
        "def get_audio_messages(message):\n",
        "\n",
        "    try:\n",
        "        print(\"Started recognition...\")\n",
        "\n",
        "        file_info = bot.get_file(message.voice.file_id)\n",
        "        path = os.path.splitext(file_info.file_path)[0]\n",
        "        fname = os.path.basename(path) \n",
        "        doc = requests.get('https://api.telegram.org/file/bot{0}/{1}'.format('5704076854:AAFivFMNymruBg4KXoEJBVAIB29zDA5u_lE', file_info.file_path))\n",
        "        with open(fname+'.oga', 'wb') as f:\n",
        "            f.write(doc.content)\n",
        "        process = subprocess.run(['ffmpeg', '-i', fname+'.oga', fname+'.wav'])\n",
        "        result = audio_to_text(fname+'.wav') \n",
        "        question = get_generative_replica(format(result))\n",
        "        bot.reply_to(message, question)\n",
        "    except sr.UnknownValueError as e:\n",
        "        bot.send_message(message.from_user.id,  \"Прошу прощения, но я не разобрал сообщение...\")\n",
        "        with open(logfile, 'a', encoding='utf-8') as f:\n",
        "            f.write(str(datetime.datetime.today().strftime(\"%H:%M:%S\")) + ':' + str(message.from_user.id) + ':' + str(message.from_user.first_name) + '_' + str(message.from_user.last_name) + ':' + str(message.from_user.username) +':'+ str(message.from_user.language_code) + ':Message is empty.\\n')\n",
        "    except Exception as e:\n",
        "        bot.send_message(message.from_user.id,  \"Что-то пошло не так...\")\n",
        "        \n",
        "        with open(logfile, 'a', encoding='utf-8') as f:\n",
        "            f.write(str(datetime.datetime.today().strftime(\"%H:%M:%S\")) + ':' + str(message.from_user.id) + ':' + str(message.from_user.first_name) + '_' + str(message.from_user.last_name) + ':' + str(message.from_user.username) +':'+ str(message.from_user.language_code) +':' + str(e) + '\\n')\n",
        "    finally:\n",
        "        os.remove(fname+'.wav')\n",
        "        os.remove(fname+'.oga')"
      ],
      "metadata": {
        "id": "2KyOIEWarvQL"
      },
      "execution_count": null,
      "outputs": []
    },
    {
      "cell_type": "code",
      "source": [
        "def audio_to_text(dest_name: str):\n",
        "    r = sr.Recognizer()\n",
        "    message = sr.AudioFile(dest_name)\n",
        "    with message as source:\n",
        "        audio = r.record(source)\n",
        "    result = r.recognize_google(audio, language=\"ru_RU\")\n",
        "    return result"
      ],
      "metadata": {
        "id": "y-oVRUjasJy0"
      },
      "execution_count": null,
      "outputs": []
    },
    {
      "cell_type": "code",
      "execution_count": null,
      "metadata": {
        "id": "U3zFyW3s3Svo"
      },
      "outputs": [],
      "source": [
        "bot.polling(none_stop=True)"
      ]
    }
  ],
  "metadata": {
    "colab": {
      "provenance": [],
      "authorship_tag": "ABX9TyOcpZL+b+ocLLJp+r0xrEYT",
      "include_colab_link": true
    },
    "gpuClass": "standard",
    "kernelspec": {
      "display_name": "Python 3",
      "name": "python3"
    },
    "language_info": {
      "name": "python"
    }
  },
  "nbformat": 4,
  "nbformat_minor": 0
}